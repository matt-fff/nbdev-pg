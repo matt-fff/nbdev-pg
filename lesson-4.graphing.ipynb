{
 "cells": [
  {
   "cell_type": "code",
   "execution_count": 26,
   "id": "44b8fa67-4e30-4ff1-bf33-c75e4a03f5e3",
   "metadata": {},
   "outputs": [],
   "source": [
    "from ipywidgets import interact\n",
    "from numpy.random import normal, seed, uniform\n",
    "from matplotlib import pyplot as plt\n",
    "from functools import partial\n",
    "import torch\n",
    "\n",
    "seed(42)\n",
    "\n",
    "def plot_function(f, tx=None, ty=None, title=None, min=-2, max=2, figsize=(6,4)):\n",
    "    x = torch.linspace(min, max, steps=100)\n",
    "    fig,ax = plt.subplots(figsize=figsize)\n",
    "    ax.plot(x,f(x))\n",
    "    if tx is not None: ax.set_xlabel(tx)\n",
    "    if ty is not None: ax.set_ylabel(ty)\n",
    "    if title is not None: ax.set_title(title)\n",
    "    return ax\n",
    "\n",
    "def noise(x, scale):\n",
    "    return normal(scale=scale, size=x.shape)\n",
    "\n",
    "def add_noise(x, mult, add):\n",
    "    return x * (1 + noise(x, mult)) + noise(x, add)\n",
    "\n",
    "def quad(a, b, c, x):\n",
    "    return a*x**2 + b*x + c\n",
    "\n",
    "def mk_quad(a, b, c):\n",
    "    return partial(quad, a, b, c)"
   ]
  },
  {
   "cell_type": "code",
   "execution_count": 37,
   "id": "a56bfbb5-b820-40f9-82a8-6ebbb881bb4a",
   "metadata": {},
   "outputs": [],
   "source": [
    "import math\n",
    "\n",
    "def mse(pred,y):\n",
    "    return ((pred-y)**2).mean()\n",
    "\n",
    "def rmse(pred,y):\n",
    "    return round(math.sqrt(mse(pred, y), 6))\n",
    "\n",
    "def quad_mse(params):\n",
    "    f = mk_quad(*params)\n",
    "    return mse(f(x), y)\n",
    "\n",
    "def quad_rmse(params):\n",
    "    f = mk_quad(*params)\n",
    "    return rmse(f(x), y)"
   ]
  },
  {
   "cell_type": "code",
   "execution_count": 38,
   "id": "e7ef8a53-0fc0-49d7-b8e3-3f9a82bbe95e",
   "metadata": {},
   "outputs": [
    {
     "data": {
      "application/vnd.jupyter.widget-view+json": {
       "model_id": "fcc23f4122fd4ca19e7b7e8992dafb78",
       "version_major": 2,
       "version_minor": 0
      },
      "text/plain": [
       "interactive(children=(FloatSlider(value=1.5, description='a', max=4.5, min=-1.5), FloatSlider(value=1.5, descr…"
      ]
     },
     "metadata": {},
     "output_type": "display_data"
    }
   ],
   "source": [
    "f = mk_quad(3, 2, 1)\n",
    "x = torch.linspace(-2, 2, steps=20)[:,None]\n",
    "y = add_noise(f(x), 0.3, 1.5)\n",
    "\n",
    "@interact(a=1.5, b=1.5, c=1.5)\n",
    "def plot_quad(a, b, c):\n",
    "    f_guess = mk_quad(a, b, c)\n",
    "    mse_loss = mse(f_guess(x), y)\n",
    "    rmse_loss = r_mse(f_guess(x), y)\n",
    "\n",
    "    ax = plot_function(\n",
    "        f_guess,\n",
    "        min=-3,\n",
    "        max=3,\n",
    "        title=f\"MSE: {mse_loss:.2f}, RMSE: {rmse_loss:.2f}\"\n",
    "    )\n",
    "    ax.scatter(x, y)"
   ]
  },
  {
   "cell_type": "code",
   "execution_count": 101,
   "id": "18c7e776-52dd-4c4c-bb7a-be088607df10",
   "metadata": {},
   "outputs": [
    {
     "data": {
      "text/plain": [
       "tensor([-8.8910, -4.1143, -2.8729])"
      ]
     },
     "execution_count": 101,
     "metadata": {},
     "output_type": "execute_result"
    }
   ],
   "source": [
    "abc = torch.tensor([1.5, 1.5, 1.5], requires_grad=True)\n",
    "loss = quad_mse(abc)\n",
    "loss.backward()\n",
    "\n",
    "# grad represents the direction you should go.\n",
    "# positions correspond to parameters\n",
    "# negative values means you should increase the parameter\n",
    "# higher absolute values indicate greater relative importance\n",
    "abc.grad"
   ]
  },
  {
   "cell_type": "code",
   "execution_count": 116,
   "id": "18ef7bde-4bf4-4ce7-abf2-46f292c3cf38",
   "metadata": {},
   "outputs": [
    {
     "name": "stdout",
     "output_type": "stream",
     "text": [
      "loss=6.55; abc=tensor([2.7447, 2.0760, 1.9022], requires_grad=True)\n"
     ]
    }
   ],
   "source": [
    "# basically every machine learning model does this repeatedly\n",
    "# This is gradient descent, bitches\n",
    "with torch.no_grad():\n",
    "    abc -= abc.grad * 0.01\n",
    "    loss = quad_mse(abc)\n",
    "\n",
    "print(f'loss={loss:.2f}; abc={abc}')\n"
   ]
  },
  {
   "cell_type": "code",
   "execution_count": 122,
   "id": "d1376071-9d64-4068-8cf6-d1b4f5b52c93",
   "metadata": {},
   "outputs": [],
   "source": [
    "# Ok, so this works fine for quadratic equations.\n",
    "# How do we make this work for much more complicated\n",
    "# things like image identification?\n",
    "\n",
    "def rectified_linear(m, b, x):\n",
    "    y = m*x + b\n",
    "    # clip will force all negative values to match the 2nd param (0.0)\n",
    "    return torch.clip(y, 0.0)\n",
    "\n",
    "def dub_rectified_linear(m1, b1, m2, b2, x):\n",
    "    return rectified_linear(m1, b1, x) + rectified_linear(m2, b2, x)\n",
    "\n",
    "# essentially, just keep adding linear functions\n",
    "# together to represent arbitrarily complex functions."
   ]
  },
  {
   "cell_type": "code",
   "execution_count": 121,
   "id": "5b980835-2903-476b-a5f3-a4ca334cfc02",
   "metadata": {},
   "outputs": [
    {
     "data": {
      "application/vnd.jupyter.widget-view+json": {
       "model_id": "bbb51e84bfe74009bf189594261f61fa",
       "version_major": 2,
       "version_minor": 0
      },
      "text/plain": [
       "interactive(children=(FloatSlider(value=1.5, description='m', max=4.5, min=-1.5), FloatSlider(value=1.5, descr…"
      ]
     },
     "metadata": {},
     "output_type": "display_data"
    }
   ],
   "source": [
    "@interact(m=1.5, b=1.5)\n",
    "def plot_rect_lin(m, b):\n",
    "    func = partial(rectified_linear, m, b)\n",
    "    ax = plot_function(\n",
    "        func,\n",
    "        min=-3,\n",
    "        max=3,\n",
    "    )"
   ]
  },
  {
   "cell_type": "code",
   "execution_count": 124,
   "id": "720c4474-dd2c-4f25-8a1c-d1b7983a9f6b",
   "metadata": {},
   "outputs": [
    {
     "data": {
      "application/vnd.jupyter.widget-view+json": {
       "model_id": "7d171af22ad14d2db9eecc1a3cb943d3",
       "version_major": 2,
       "version_minor": 0
      },
      "text/plain": [
       "interactive(children=(FloatSlider(value=-1.5, description='m1', max=1.5, min=-4.5), FloatSlider(value=-1.5, de…"
      ]
     },
     "metadata": {},
     "output_type": "display_data"
    }
   ],
   "source": [
    "@interact(m1=-1.5, b1=-1.5, m2=1.5, b2=1.5)\n",
    "def plot_double_rect_lin(m1, b1, m2, b2):\n",
    "    func = partial(dub_rectified_linear, m1, b1, m2, b2)\n",
    "    ax = plot_function(\n",
    "        func,\n",
    "        min=-3,\n",
    "        max=3,\n",
    "    )"
   ]
  }
 ],
 "metadata": {
  "kernelspec": {
   "display_name": "Python 3 (ipykernel)",
   "language": "python",
   "name": "python3"
  },
  "language_info": {
   "codemirror_mode": {
    "name": "ipython",
    "version": 3
   },
   "file_extension": ".py",
   "mimetype": "text/x-python",
   "name": "python",
   "nbconvert_exporter": "python",
   "pygments_lexer": "ipython3",
   "version": "3.9.13"
  }
 },
 "nbformat": 4,
 "nbformat_minor": 5
}
