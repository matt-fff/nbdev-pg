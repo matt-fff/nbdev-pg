{
 "cells": [
  {
   "cell_type": "code",
   "execution_count": 6,
   "id": "c9d593f8-38e7-461b-b10e-eb5dc0e44824",
   "metadata": {},
   "outputs": [],
   "source": [
    "#hide\n",
    "\n",
    "from pandas.api.types import is_string_dtype, is_numeric_dtype, is_categorical_dtype\n",
    "from fastai.tabular.all import *\n",
    "from sklearn.ensemble import RandomForestRegressor\n",
    "from sklearn.tree import DecisionTreeRegressor\n",
    "from dtreeviz.trees import *\n",
    "from IPython.display import Image, display_svg, SVG\n",
    "\n",
    "pd.options.display.max_rows = 20\n",
    "pd.options.display.max_columns = 8"
   ]
  },
  {
   "cell_type": "code",
   "execution_count": 17,
   "id": "593af90f-efff-4083-a188-979502bf0721",
   "metadata": {},
   "outputs": [
    {
     "name": "stdout",
     "output_type": "stream",
     "text": [
      "kaggle/ssts-forecasting/train.csv\n",
      "kaggle/ssts-forecasting/test.csv\n",
      "kaggle/ssts-forecasting/oil.csv\n",
      "kaggle/ssts-forecasting/sample_submission.csv\n",
      "kaggle/ssts-forecasting/transactions.csv\n",
      "kaggle/ssts-forecasting/stores.csv\n",
      "kaggle/ssts-forecasting/holidays_events.csv\n"
     ]
    }
   ],
   "source": [
    "# This Python 3 environment comes with many helpful analytics libraries installed\n",
    "# It is defined by the kaggle/python Docker image: https://github.com/kaggle/docker-python\n",
    "# For example, here's several helpful packages to load\n",
    "\n",
    "import numpy as np # linear algebra\n",
    "import pandas as pd # data processing, CSV file I/O (e.g. pd.read_csv)\n",
    "\n",
    "# Input data files are available in the read-only \"../input/\" directory\n",
    "# For example, running this (by clicking run or pressing Shift+Enter) will list all files under the input directory\n",
    "\n",
    "import os\n",
    "#from pathlib import Path\n",
    "\n",
    "datap = Path('./kaggle/ssts-forecasting')\n",
    "\n",
    "\n",
    "for dirname, _, filenames in os.walk(datap):\n",
    "    for filename in filenames:\n",
    "        print(os.path.join(dirname, filename))\n",
    "    \n",
    "# You can write up to 20GB to the current directory (/kaggle/working/) that gets preserved as output when you create a version using \"Save & Run All\" \n",
    "# You can also write temporary files to /kaggle/temp/, but they won't be saved outside of the current session"
   ]
  },
  {
   "cell_type": "code",
   "execution_count": 18,
   "id": "5d48363e-5285-4824-866b-fd3a5a5f9955",
   "metadata": {},
   "outputs": [
    {
     "data": {
      "text/plain": [
       "Index(['id', 'date', 'store_nbr', 'family', 'sales', 'onpromotion'], dtype='object')"
      ]
     },
     "execution_count": 18,
     "metadata": {},
     "output_type": "execute_result"
    }
   ],
   "source": [
    "train_data = pd.read_csv(datap / \"train.csv\")\n",
    "train_data.head()\n",
    "train_data.columns"
   ]
  },
  {
   "cell_type": "code",
   "execution_count": 19,
   "id": "cef8acc7-485f-41a3-836f-0d33cf791e42",
   "metadata": {},
   "outputs": [
    {
     "data": {
      "text/plain": [
       "Index(['id', 'date', 'store_nbr', 'family', 'onpromotion'], dtype='object')"
      ]
     },
     "execution_count": 19,
     "metadata": {},
     "output_type": "execute_result"
    }
   ],
   "source": [
    "test_data = pd.read_csv(datap / \"test.csv\")\n",
    "test_data.head()\n",
    "test_data.columns"
   ]
  },
  {
   "cell_type": "markdown",
   "id": "9ce890c3-8ff2-4861-a0c7-a42a45d02071",
   "metadata": {},
   "source": [
    "# fastai method"
   ]
  },
  {
   "cell_type": "code",
   "execution_count": 20,
   "id": "8e8eb279-fd16-4082-a5e4-25dad8c5e3d4",
   "metadata": {},
   "outputs": [],
   "source": [
    "def r_mse(pred,y): return round(math.sqrt(((pred-y)**2).mean()), 6)\n",
    "def m_rmse(m, xs, y): return r_mse(m.predict(xs), y)"
   ]
  },
  {
   "cell_type": "code",
   "execution_count": 29,
   "id": "b3bc0da4-d9ec-4411-8d3f-699437d0f3c6",
   "metadata": {},
   "outputs": [],
   "source": [
    "procs = [Categorify]\n",
    "features = [\n",
    "    'id', 'date', 'store_nbr', 'family', 'onpromotion']\n",
    "dep_var = 'sales'\n",
    "# all_data = pd.concat([train_data, test_data], sort=False)\n",
    "# It looks to me like the test data has no survival column\n",
    "all_data = train_data[features + [dep_var]]\n",
    "\n",
    "cont, cat = cont_cat_split(all_data, 1, dep_var=dep_var)\n",
    "\n",
    "split_idx = int(math.floor(len(all_data) * 0.70))\n",
    "splits = (list(range(0, split_idx)), \n",
    "          list(range(split_idx, len(all_data))))"
   ]
  },
  {
   "cell_type": "code",
   "execution_count": 30,
   "id": "3d556f52-0c79-4cba-bb55-e9b9f4ead81e",
   "metadata": {},
   "outputs": [
    {
     "data": {
      "text/html": [
       "<table border=\"1\" class=\"dataframe\">\n",
       "  <thead>\n",
       "    <tr style=\"text-align: right;\">\n",
       "      <th></th>\n",
       "      <th>date</th>\n",
       "      <th>family</th>\n",
       "      <th>id</th>\n",
       "      <th>store_nbr</th>\n",
       "      <th>onpromotion</th>\n",
       "      <th>sales</th>\n",
       "    </tr>\n",
       "  </thead>\n",
       "  <tbody>\n",
       "    <tr>\n",
       "      <th>0</th>\n",
       "      <td>2013-01-01</td>\n",
       "      <td>AUTOMOTIVE</td>\n",
       "      <td>0</td>\n",
       "      <td>1</td>\n",
       "      <td>0</td>\n",
       "      <td>0.0</td>\n",
       "    </tr>\n",
       "    <tr>\n",
       "      <th>1</th>\n",
       "      <td>2013-01-01</td>\n",
       "      <td>BABY CARE</td>\n",
       "      <td>1</td>\n",
       "      <td>1</td>\n",
       "      <td>0</td>\n",
       "      <td>0.0</td>\n",
       "    </tr>\n",
       "    <tr>\n",
       "      <th>2</th>\n",
       "      <td>2013-01-01</td>\n",
       "      <td>BEAUTY</td>\n",
       "      <td>2</td>\n",
       "      <td>1</td>\n",
       "      <td>0</td>\n",
       "      <td>0.0</td>\n",
       "    </tr>\n",
       "    <tr>\n",
       "      <th>3</th>\n",
       "      <td>2013-01-01</td>\n",
       "      <td>BEVERAGES</td>\n",
       "      <td>3</td>\n",
       "      <td>1</td>\n",
       "      <td>0</td>\n",
       "      <td>0.0</td>\n",
       "    </tr>\n",
       "    <tr>\n",
       "      <th>4</th>\n",
       "      <td>2013-01-01</td>\n",
       "      <td>BOOKS</td>\n",
       "      <td>4</td>\n",
       "      <td>1</td>\n",
       "      <td>0</td>\n",
       "      <td>0.0</td>\n",
       "    </tr>\n",
       "    <tr>\n",
       "      <th>5</th>\n",
       "      <td>2013-01-01</td>\n",
       "      <td>BREAD/BAKERY</td>\n",
       "      <td>5</td>\n",
       "      <td>1</td>\n",
       "      <td>0</td>\n",
       "      <td>0.0</td>\n",
       "    </tr>\n",
       "    <tr>\n",
       "      <th>6</th>\n",
       "      <td>2013-01-01</td>\n",
       "      <td>CELEBRATION</td>\n",
       "      <td>6</td>\n",
       "      <td>1</td>\n",
       "      <td>0</td>\n",
       "      <td>0.0</td>\n",
       "    </tr>\n",
       "    <tr>\n",
       "      <th>7</th>\n",
       "      <td>2013-01-01</td>\n",
       "      <td>CLEANING</td>\n",
       "      <td>7</td>\n",
       "      <td>1</td>\n",
       "      <td>0</td>\n",
       "      <td>0.0</td>\n",
       "    </tr>\n",
       "    <tr>\n",
       "      <th>8</th>\n",
       "      <td>2013-01-01</td>\n",
       "      <td>DAIRY</td>\n",
       "      <td>8</td>\n",
       "      <td>1</td>\n",
       "      <td>0</td>\n",
       "      <td>0.0</td>\n",
       "    </tr>\n",
       "    <tr>\n",
       "      <th>9</th>\n",
       "      <td>2013-01-01</td>\n",
       "      <td>DELI</td>\n",
       "      <td>9</td>\n",
       "      <td>1</td>\n",
       "      <td>0</td>\n",
       "      <td>0.0</td>\n",
       "    </tr>\n",
       "  </tbody>\n",
       "</table>"
      ],
      "text/plain": [
       "<IPython.core.display.HTML object>"
      ]
     },
     "metadata": {},
     "output_type": "display_data"
    }
   ],
   "source": [
    "to = TabularPandas(\n",
    "    all_data[features + [dep_var]],\n",
    "    procs,\n",
    "    cat,\n",
    "    cont,\n",
    "    y_names=dep_var,\n",
    "    splits=splits\n",
    ")\n",
    "to.show(10)\n",
    "\n",
    "# save_pickle(datap / 'to.pkl', to)\n",
    "# to = (datap / 'to.pkl').load()\n",
    "\n",
    "xs,y = to.train.xs, to.train.y\n",
    "valid_xs,valid_y = to.valid.xs, to.valid.y"
   ]
  },
  {
   "cell_type": "code",
   "execution_count": 39,
   "id": "c6e8e315-0646-410f-828f-a17cfc5dbc99",
   "metadata": {},
   "outputs": [
    {
     "data": {
      "text/plain": [
       "(269.138214, 547.068046)"
      ]
     },
     "execution_count": 39,
     "metadata": {},
     "output_type": "execute_result"
    }
   ],
   "source": [
    "m = DecisionTreeRegressor(min_samples_leaf=10)\n",
    "m.fit(xs, y)\n",
    "\n",
    "m_rmse(m, xs, y), m_rmse(m, valid_xs, valid_y)"
   ]
  },
  {
   "cell_type": "code",
   "execution_count": 40,
   "id": "71273f3a-7487-44a5-966f-0f4193e979ff",
   "metadata": {},
   "outputs": [
    {
     "data": {
      "text/html": [
       "<table border=\"1\" class=\"dataframe\">\n",
       "  <thead>\n",
       "    <tr style=\"text-align: right;\">\n",
       "      <th></th>\n",
       "      <th>date</th>\n",
       "      <th>family</th>\n",
       "      <th>id</th>\n",
       "      <th>store_nbr</th>\n",
       "      <th>onpromotion</th>\n",
       "    </tr>\n",
       "  </thead>\n",
       "  <tbody>\n",
       "    <tr>\n",
       "      <th>0</th>\n",
       "      <td>2017-08-16</td>\n",
       "      <td>AUTOMOTIVE</td>\n",
       "      <td>3000888</td>\n",
       "      <td>1</td>\n",
       "      <td>0</td>\n",
       "    </tr>\n",
       "    <tr>\n",
       "      <th>1</th>\n",
       "      <td>2017-08-16</td>\n",
       "      <td>BABY CARE</td>\n",
       "      <td>3000889</td>\n",
       "      <td>1</td>\n",
       "      <td>0</td>\n",
       "    </tr>\n",
       "    <tr>\n",
       "      <th>2</th>\n",
       "      <td>2017-08-16</td>\n",
       "      <td>BEAUTY</td>\n",
       "      <td>3000890</td>\n",
       "      <td>1</td>\n",
       "      <td>2</td>\n",
       "    </tr>\n",
       "  </tbody>\n",
       "</table>"
      ],
      "text/plain": [
       "<IPython.core.display.HTML object>"
      ]
     },
     "metadata": {},
     "output_type": "display_data"
    }
   ],
   "source": [
    "test_to = TabularPandas(\n",
    "    test_data[features],\n",
    "    procs,\n",
    "    cat,\n",
    "    cont\n",
    ")\n",
    "test_to.show(3)\n",
    "test_cleaned = test_to.train.xs"
   ]
  },
  {
   "cell_type": "code",
   "execution_count": 41,
   "id": "a0d12052-9f07-453c-ae40-2634f02a01ac",
   "metadata": {},
   "outputs": [
    {
     "data": {
      "text/plain": [
       "array([   5.        ,    0.        ,    7.36842105, 2369.14285714,\n",
       "          0.        ,  380.13066228,   14.        ,  854.07142857,\n",
       "        854.07142857,  130.45626349])"
      ]
     },
     "execution_count": 41,
     "metadata": {},
     "output_type": "execute_result"
    }
   ],
   "source": [
    "predictions = m.predict(test_cleaned);\n",
    "predictions[0:10]"
   ]
  },
  {
   "cell_type": "code",
   "execution_count": 43,
   "id": "b59d3450-4b5e-4f49-a7ce-d7bfc26692cc",
   "metadata": {},
   "outputs": [
    {
     "data": {
      "text/html": [
       "<div>\n",
       "<style scoped>\n",
       "    .dataframe tbody tr th:only-of-type {\n",
       "        vertical-align: middle;\n",
       "    }\n",
       "\n",
       "    .dataframe tbody tr th {\n",
       "        vertical-align: top;\n",
       "    }\n",
       "\n",
       "    .dataframe thead th {\n",
       "        text-align: right;\n",
       "    }\n",
       "</style>\n",
       "<table border=\"1\" class=\"dataframe\">\n",
       "  <thead>\n",
       "    <tr style=\"text-align: right;\">\n",
       "      <th></th>\n",
       "      <th>id</th>\n",
       "      <th>sales</th>\n",
       "    </tr>\n",
       "  </thead>\n",
       "  <tbody>\n",
       "    <tr>\n",
       "      <th>0</th>\n",
       "      <td>3000888</td>\n",
       "      <td>5.000000</td>\n",
       "    </tr>\n",
       "    <tr>\n",
       "      <th>1</th>\n",
       "      <td>3000889</td>\n",
       "      <td>0.000000</td>\n",
       "    </tr>\n",
       "    <tr>\n",
       "      <th>2</th>\n",
       "      <td>3000890</td>\n",
       "      <td>7.368421</td>\n",
       "    </tr>\n",
       "    <tr>\n",
       "      <th>3</th>\n",
       "      <td>3000891</td>\n",
       "      <td>2369.142857</td>\n",
       "    </tr>\n",
       "    <tr>\n",
       "      <th>4</th>\n",
       "      <td>3000892</td>\n",
       "      <td>0.000000</td>\n",
       "    </tr>\n",
       "    <tr>\n",
       "      <th>...</th>\n",
       "      <td>...</td>\n",
       "      <td>...</td>\n",
       "    </tr>\n",
       "    <tr>\n",
       "      <th>28507</th>\n",
       "      <td>3029395</td>\n",
       "      <td>408.866999</td>\n",
       "    </tr>\n",
       "    <tr>\n",
       "      <th>28508</th>\n",
       "      <td>3029396</td>\n",
       "      <td>82.983400</td>\n",
       "    </tr>\n",
       "    <tr>\n",
       "      <th>28509</th>\n",
       "      <td>3029397</td>\n",
       "      <td>1279.750586</td>\n",
       "    </tr>\n",
       "    <tr>\n",
       "      <th>28510</th>\n",
       "      <td>3029398</td>\n",
       "      <td>90.398313</td>\n",
       "    </tr>\n",
       "    <tr>\n",
       "      <th>28511</th>\n",
       "      <td>3029399</td>\n",
       "      <td>23.586200</td>\n",
       "    </tr>\n",
       "  </tbody>\n",
       "</table>\n",
       "<p>28512 rows × 2 columns</p>\n",
       "</div>"
      ],
      "text/plain": [
       "            id        sales\n",
       "0      3000888     5.000000\n",
       "1      3000889     0.000000\n",
       "2      3000890     7.368421\n",
       "3      3000891  2369.142857\n",
       "4      3000892     0.000000\n",
       "...        ...          ...\n",
       "28507  3029395   408.866999\n",
       "28508  3029396    82.983400\n",
       "28509  3029397  1279.750586\n",
       "28510  3029398    90.398313\n",
       "28511  3029399    23.586200\n",
       "\n",
       "[28512 rows x 2 columns]"
      ]
     },
     "execution_count": 43,
     "metadata": {},
     "output_type": "execute_result"
    }
   ],
   "source": [
    "output = pd.DataFrame(\n",
    "    {\n",
    "        'id': test_cleaned.id,\n",
    "        'sales': predictions,\n",
    "    }\n",
    ")\n",
    "output"
   ]
  },
  {
   "cell_type": "code",
   "execution_count": 44,
   "id": "16d3958c-6b5a-4113-b66e-0e28ad4fb5c8",
   "metadata": {},
   "outputs": [
    {
     "name": "stdout",
     "output_type": "stream",
     "text": [
      "Your submission was successfully saved!\n"
     ]
    }
   ],
   "source": [
    "output.to_csv('submission.csv', index=False)\n",
    "print(\"Your submission was successfully saved!\")"
   ]
  }
 ],
 "metadata": {
  "kernelspec": {
   "display_name": "Python 3 (ipykernel)",
   "language": "python",
   "name": "python3"
  },
  "language_info": {
   "codemirror_mode": {
    "name": "ipython",
    "version": 3
   },
   "file_extension": ".py",
   "mimetype": "text/x-python",
   "name": "python",
   "nbconvert_exporter": "python",
   "pygments_lexer": "ipython3",
   "version": "3.9.13"
  }
 },
 "nbformat": 4,
 "nbformat_minor": 5
}
