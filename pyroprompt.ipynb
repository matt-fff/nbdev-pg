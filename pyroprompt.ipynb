{
 "cells": [
  {
   "cell_type": "code",
   "execution_count": 3,
   "id": "539f9e7e-ac39-4b42-bdaa-f58fb01682c2",
   "metadata": {},
   "outputs": [],
   "source": [
    "PYRO_CLIENT_ID = \"4c9045d4-edc4-4f44-9d47-e9d5fccb1e80\"\n",
    "PYRO_CLIENT_SECRET = \"b16807412a9d48919944021d7245de40d1a0ce9cbc7b4935b8d0bd839a80b293\""
   ]
  },
  {
   "cell_type": "code",
   "execution_count": 4,
   "id": "3686c869-5b61-4fbb-bf10-755e31497858",
   "metadata": {},
   "outputs": [],
   "source": [
    "from pyroprompts_client import PyroPromptsClient\n",
    "client = PyroPromptsClient(\n",
    "    client_id=PYRO_CLIENT_ID,\n",
    "    client_secret=PYRO_CLIENT_SECRET,\n",
    ")"
   ]
  },
  {
   "cell_type": "code",
   "execution_count": 2,
   "id": "45feb2c3-d12b-4516-9ab5-c0478c78d9da",
   "metadata": {},
   "outputs": [
    {
     "name": "stdout",
     "output_type": "stream",
     "text": [
      "{\"level\": \"info\", \"msg\": \"request.success\", \"log_kwargs\": {\"remaining_attempts\": 0, \"method\": \"get\", \"url\": \"/api/crud/project_snippets/?\", \"data\": null, \"status_code\": 200, \"response\": {\"count\": 6, \"next\": null, \"previous\": null, \"results\": [{\"id\": \"df74c44d-c36d-48dc-8e32-8c9b9f9aefc5\", \"name\": \"Context\", \"description\": null, \"content\": \"Fill this in with information about what you do, what you offer, what you talk about.\", \"project_id\": \"5496e9a7-aeda-495c-90fc-f1f0b119b3b9\", \"deleted\": 0, \"created_by\": \"d0c5d59b-2877-4826-9f2b-440ef3488c1f\", \"created_date\": \"2023-12-19T21:08:36.068520Z\", \"updated_date\": \"2023-12-19T21:08:36.068539Z\"}, {\"id\": \"0932aae3-57cd-4254-a61a-fb845b1e0ce2\", \"name\": \"Audience\", \"description\": null, \"content\": \"Fill this in with information about your audience, what drives them, what they want.\", \"project_id\": \"5496e9a7-aeda-495c-90fc-f1f0b119b3b9\", \"deleted\": 0, \"created_by\": \"d0c5d59b-2877-4826-9f2b-440ef3488c1f\", \"created_date\": \"2023-12-19T21:08:36.068575Z\", \"updated_date\": \"2023-12-19T21:08:36.068582Z\"}, {\"id\": \"6aa9336f-d8de-4e4e-9c5e-791379d81537\", \"name\": \"Audience\", \"description\": null, \"content\": \"The audience interested in consuming content about megastructures, such as towers, dams, top-down city designs, and structures with unique histories, is likely to have the following characteristics:\\n\\nCuriosity about engineering and architecture: These individuals are fascinated by the technical aspects of designing and constructing large-scale structures. They enjoy learning about the challenges engineers and architects face when creating these megastructures and the innovative solutions they develop to overcome them.\\nInterest in urban planning and design: The audience is drawn to the concept of top-down city designs and how they aim to address issues such as population growth, sustainability, and quality of life. They are eager to explore the social, economic, and environmental implications of these ambitious projects.\\nAppreciation for history and cultural context: People who are intrigued by megastructures with interesting backstories, origins, or final outcomes enjoy learning about the historical and cultural factors that influenced their creation. They are curious about the motivations behind these projects and the impact they have had on the communities they serve.\\nFascination with the scale and grandeur: The sheer size and complexity of megastructures appeal to this audience. They are in awe of the human ingenuity and ambition required to construct such massive and impressive structures.\\nDesire for unique and thought-provoking content: This audience seeks out content that goes beyond the surface-level facts and delves into the deeper stories and implications of megastructures. They appreciate well-researched, engaging, and visually compelling content that offers new perspectives and sparks their imagination.\\nInterest in global developments: The audience is likely to have a global outlook and be interested in learning about megastructures from different parts of the world. They are curious about how these projects reflect the aspirations, challenges, and cultural values of the societies that create them.\\nDiverse professional backgrounds: While some members of this audience may have backgrounds in engineering, architecture, or urban planning, others may come from various fields such as technology, design, history, or social sciences. What unites them is a shared fascination with the intersection of human ambition, innovation, and the built environment.\\n\\nWhen creating content for this audience, it is essential to focus on the unique aspects of each megastructure, providing in-depth information about its design, construction, and the story behind its creation. Engaging visuals, such as high-quality photographs, diagrams, and video footage, can help bring these structures to life and capture the audience's imagination. Additionally, exploring the broader social, economic, and environmental implications of these projects can provide valuable context and encourage further discussion and debate among the audience.\", \"project_id\": \"7f20f6a7-314a-4683-a5d6-0e89658f3490\", \"deleted\": 0, \"created_by\": \"d0c5d59b-2877-4826-9f2b-440ef3488c1f\", \"created_date\": \"2024-06-07T05:44:30.118233Z\", \"updated_date\": \"2024-06-07T19:29:00.381048Z\"}, {\"id\": \"cd10bd7e-100d-41e5-ab86-a3b97213dd72\", \"name\": \"Context\", \"description\": null, \"content\": \"In-depth articles and blog posts: Produce well-researched, detailed articles that explore the history, design, and construction of various megastructures. These pieces should go beyond basic facts and delve into the challenges faced during the building process, the innovative solutions employed, and the impact these structures have on their surrounding communities.\\nHigh-quality visuals: Incorporate stunning photographs, detailed diagrams, and 3D renderings to showcase the scale, complexity, and beauty of the megastructures. These visuals should be carefully chosen to complement the written content and help the audience better understand and appreciate the structures.\\nVideo content: Create engaging video content, such as documentaries, virtual tours, and interviews with experts in the field. These videos should offer unique perspectives on the megastructures, showcasing their design, construction, and the people involved in bringing them to life.\\nCase studies: Develop in-depth case studies of specific megastructures, highlighting their unique features, challenges, and successes. These case studies should provide valuable insights into the decision-making processes behind these projects and the lessons learned from their implementation.\\nOpinion pieces and debates: Encourage discussion and debate among the audience by producing opinion pieces that explore the social, economic, and environmental implications of megastructures. Invite experts from various fields to contribute their thoughts and engage with the audience through comments and social media.\\nInteractive content: Create interactive content, such as quizzes, polls, and virtual reality experiences, to allow the audience to engage with the megastructures in new and exciting ways. This type of content can help foster a sense of community and encourage audience members to share their own knowledge and experiences.\\nRegular updates and news: Keep the audience informed about the latest developments in the world of megastructures by providing regular updates on ongoing projects, newly proposed designs, and relevant industry news. This will help maintain a sense of anticipation and excitement among the audience.\\nHistorical and cultural context: Provide historical and cultural context for the megastructures, exploring the factors that influenced their creation and the impact they have had on the societies that built them. This can include examining the political, economic, and social conditions that gave rise to these projects and how they have evolved.\\nComparative analysis: Compare and contrast different megastructures, highlighting their similarities and differences in design, construction, and purpose. This can help the audience appreciate the diversity of approaches and solutions employed in creating these impressive structures.\\nInterviews and profiles: Conduct interviews with key figures involved in the design, construction, and management of megastructures, such as architects, engineers, and urban planners. These profiles can offer unique insights into the creative process and the challenges faced in bringing these projects to fruition.\", \"project_id\": \"7f20f6a7-314a-4683-a5d6-0e89658f3490\", \"deleted\": 0, \"created_by\": \"d0c5d59b-2877-4826-9f2b-440ef3488c1f\", \"created_date\": \"2024-06-07T05:44:30.118199Z\", \"updated_date\": \"2024-06-07T19:31:01.238915Z\"}, {\"id\": \"c10cd09d-d2ee-497f-9f9c-a7bb773ef584\", \"name\": \"Context\", \"description\": null, \"content\": \"Fill this in with information about what you do, what you offer, what you talk about.\", \"project_id\": \"04361a13-07d6-432c-bec3-3568bee43c1b\", \"deleted\": 0, \"created_by\": \"d0c5d59b-2877-4826-9f2b-440ef3488c1f\", \"created_date\": \"2024-07-09T04:01:13.026384Z\", \"updated_date\": \"2024-07-09T04:01:13.026395Z\"}, {\"id\": \"9211c23b-3cca-4459-ab73-ebcf1806e872\", \"name\": \"Audience\", \"description\": null, \"content\": \"Fill this in with information about your audience, what drives them, what they want.\", \"project_id\": \"04361a13-07d6-432c-bec3-3568bee43c1b\", \"deleted\": 0, \"created_by\": \"d0c5d59b-2877-4826-9f2b-440ef3488c1f\", \"created_date\": \"2024-07-09T04:01:13.026426Z\", \"updated_date\": \"2024-07-09T04:01:13.026432Z\"}]}}}\n"
     ]
    },
    {
     "data": {
      "text/plain": [
       "{'count': 6,\n",
       " 'next': None,\n",
       " 'previous': None,\n",
       " 'results': [{'id': 'df74c44d-c36d-48dc-8e32-8c9b9f9aefc5',\n",
       "   'name': 'Context',\n",
       "   'description': None,\n",
       "   'content': 'Fill this in with information about what you do, what you offer, what you talk about.',\n",
       "   'project_id': '5496e9a7-aeda-495c-90fc-f1f0b119b3b9',\n",
       "   'deleted': 0,\n",
       "   'created_by': 'd0c5d59b-2877-4826-9f2b-440ef3488c1f',\n",
       "   'created_date': '2023-12-19T21:08:36.068520Z',\n",
       "   'updated_date': '2023-12-19T21:08:36.068539Z'},\n",
       "  {'id': '0932aae3-57cd-4254-a61a-fb845b1e0ce2',\n",
       "   'name': 'Audience',\n",
       "   'description': None,\n",
       "   'content': 'Fill this in with information about your audience, what drives them, what they want.',\n",
       "   'project_id': '5496e9a7-aeda-495c-90fc-f1f0b119b3b9',\n",
       "   'deleted': 0,\n",
       "   'created_by': 'd0c5d59b-2877-4826-9f2b-440ef3488c1f',\n",
       "   'created_date': '2023-12-19T21:08:36.068575Z',\n",
       "   'updated_date': '2023-12-19T21:08:36.068582Z'},\n",
       "  {'id': '6aa9336f-d8de-4e4e-9c5e-791379d81537',\n",
       "   'name': 'Audience',\n",
       "   'description': None,\n",
       "   'content': \"The audience interested in consuming content about megastructures, such as towers, dams, top-down city designs, and structures with unique histories, is likely to have the following characteristics:\\n\\nCuriosity about engineering and architecture: These individuals are fascinated by the technical aspects of designing and constructing large-scale structures. They enjoy learning about the challenges engineers and architects face when creating these megastructures and the innovative solutions they develop to overcome them.\\nInterest in urban planning and design: The audience is drawn to the concept of top-down city designs and how they aim to address issues such as population growth, sustainability, and quality of life. They are eager to explore the social, economic, and environmental implications of these ambitious projects.\\nAppreciation for history and cultural context: People who are intrigued by megastructures with interesting backstories, origins, or final outcomes enjoy learning about the historical and cultural factors that influenced their creation. They are curious about the motivations behind these projects and the impact they have had on the communities they serve.\\nFascination with the scale and grandeur: The sheer size and complexity of megastructures appeal to this audience. They are in awe of the human ingenuity and ambition required to construct such massive and impressive structures.\\nDesire for unique and thought-provoking content: This audience seeks out content that goes beyond the surface-level facts and delves into the deeper stories and implications of megastructures. They appreciate well-researched, engaging, and visually compelling content that offers new perspectives and sparks their imagination.\\nInterest in global developments: The audience is likely to have a global outlook and be interested in learning about megastructures from different parts of the world. They are curious about how these projects reflect the aspirations, challenges, and cultural values of the societies that create them.\\nDiverse professional backgrounds: While some members of this audience may have backgrounds in engineering, architecture, or urban planning, others may come from various fields such as technology, design, history, or social sciences. What unites them is a shared fascination with the intersection of human ambition, innovation, and the built environment.\\n\\nWhen creating content for this audience, it is essential to focus on the unique aspects of each megastructure, providing in-depth information about its design, construction, and the story behind its creation. Engaging visuals, such as high-quality photographs, diagrams, and video footage, can help bring these structures to life and capture the audience's imagination. Additionally, exploring the broader social, economic, and environmental implications of these projects can provide valuable context and encourage further discussion and debate among the audience.\",\n",
       "   'project_id': '7f20f6a7-314a-4683-a5d6-0e89658f3490',\n",
       "   'deleted': 0,\n",
       "   'created_by': 'd0c5d59b-2877-4826-9f2b-440ef3488c1f',\n",
       "   'created_date': '2024-06-07T05:44:30.118233Z',\n",
       "   'updated_date': '2024-06-07T19:29:00.381048Z'},\n",
       "  {'id': 'cd10bd7e-100d-41e5-ab86-a3b97213dd72',\n",
       "   'name': 'Context',\n",
       "   'description': None,\n",
       "   'content': 'In-depth articles and blog posts: Produce well-researched, detailed articles that explore the history, design, and construction of various megastructures. These pieces should go beyond basic facts and delve into the challenges faced during the building process, the innovative solutions employed, and the impact these structures have on their surrounding communities.\\nHigh-quality visuals: Incorporate stunning photographs, detailed diagrams, and 3D renderings to showcase the scale, complexity, and beauty of the megastructures. These visuals should be carefully chosen to complement the written content and help the audience better understand and appreciate the structures.\\nVideo content: Create engaging video content, such as documentaries, virtual tours, and interviews with experts in the field. These videos should offer unique perspectives on the megastructures, showcasing their design, construction, and the people involved in bringing them to life.\\nCase studies: Develop in-depth case studies of specific megastructures, highlighting their unique features, challenges, and successes. These case studies should provide valuable insights into the decision-making processes behind these projects and the lessons learned from their implementation.\\nOpinion pieces and debates: Encourage discussion and debate among the audience by producing opinion pieces that explore the social, economic, and environmental implications of megastructures. Invite experts from various fields to contribute their thoughts and engage with the audience through comments and social media.\\nInteractive content: Create interactive content, such as quizzes, polls, and virtual reality experiences, to allow the audience to engage with the megastructures in new and exciting ways. This type of content can help foster a sense of community and encourage audience members to share their own knowledge and experiences.\\nRegular updates and news: Keep the audience informed about the latest developments in the world of megastructures by providing regular updates on ongoing projects, newly proposed designs, and relevant industry news. This will help maintain a sense of anticipation and excitement among the audience.\\nHistorical and cultural context: Provide historical and cultural context for the megastructures, exploring the factors that influenced their creation and the impact they have had on the societies that built them. This can include examining the political, economic, and social conditions that gave rise to these projects and how they have evolved.\\nComparative analysis: Compare and contrast different megastructures, highlighting their similarities and differences in design, construction, and purpose. This can help the audience appreciate the diversity of approaches and solutions employed in creating these impressive structures.\\nInterviews and profiles: Conduct interviews with key figures involved in the design, construction, and management of megastructures, such as architects, engineers, and urban planners. These profiles can offer unique insights into the creative process and the challenges faced in bringing these projects to fruition.',\n",
       "   'project_id': '7f20f6a7-314a-4683-a5d6-0e89658f3490',\n",
       "   'deleted': 0,\n",
       "   'created_by': 'd0c5d59b-2877-4826-9f2b-440ef3488c1f',\n",
       "   'created_date': '2024-06-07T05:44:30.118199Z',\n",
       "   'updated_date': '2024-06-07T19:31:01.238915Z'},\n",
       "  {'id': 'c10cd09d-d2ee-497f-9f9c-a7bb773ef584',\n",
       "   'name': 'Context',\n",
       "   'description': None,\n",
       "   'content': 'Fill this in with information about what you do, what you offer, what you talk about.',\n",
       "   'project_id': '04361a13-07d6-432c-bec3-3568bee43c1b',\n",
       "   'deleted': 0,\n",
       "   'created_by': 'd0c5d59b-2877-4826-9f2b-440ef3488c1f',\n",
       "   'created_date': '2024-07-09T04:01:13.026384Z',\n",
       "   'updated_date': '2024-07-09T04:01:13.026395Z'},\n",
       "  {'id': '9211c23b-3cca-4459-ab73-ebcf1806e872',\n",
       "   'name': 'Audience',\n",
       "   'description': None,\n",
       "   'content': 'Fill this in with information about your audience, what drives them, what they want.',\n",
       "   'project_id': '04361a13-07d6-432c-bec3-3568bee43c1b',\n",
       "   'deleted': 0,\n",
       "   'created_by': 'd0c5d59b-2877-4826-9f2b-440ef3488c1f',\n",
       "   'created_date': '2024-07-09T04:01:13.026426Z',\n",
       "   'updated_date': '2024-07-09T04:01:13.026432Z'}]}"
      ]
     },
     "execution_count": 2,
     "metadata": {},
     "output_type": "execute_result"
    }
   ],
   "source": [
    "client.get_project_snippets()"
   ]
  },
  {
   "cell_type": "code",
   "execution_count": null,
   "id": "1c590c06-36d1-4afb-8d0e-826d42deeff5",
   "metadata": {},
   "outputs": [],
   "source": []
  }
 ],
 "metadata": {
  "kernelspec": {
   "display_name": "Python 3 (ipykernel)",
   "language": "python",
   "name": "python3"
  },
  "language_info": {
   "codemirror_mode": {
    "name": "ipython",
    "version": 3
   },
   "file_extension": ".py",
   "mimetype": "text/x-python",
   "name": "python",
   "nbconvert_exporter": "python",
   "pygments_lexer": "ipython3",
   "version": "3.12.3"
  }
 },
 "nbformat": 4,
 "nbformat_minor": 5
}
