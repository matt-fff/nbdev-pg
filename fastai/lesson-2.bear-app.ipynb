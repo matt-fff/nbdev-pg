{
 "cells": [
  {
   "cell_type": "code",
   "execution_count": 1,
   "id": "fcc692d6",
   "metadata": {},
   "outputs": [],
   "source": [
    "from fastcore.all import Path\n",
    "from fastai.learner import load_learner\n",
    "\n",
    "path = Path()\n",
    "path.ls(file_exts='.pkl')\n",
    "learn_inf = load_learner(path/'export.pkl')"
   ]
  },
  {
   "cell_type": "code",
   "execution_count": 4,
   "id": "83b07f73",
   "metadata": {},
   "outputs": [
    {
     "name": "stdout",
     "output_type": "stream",
     "text": [
      "Running on local URL:  http://doomver.local:7862\n",
      "\n",
      "To create a public link, set `share=True` in `launch()`.\n"
     ]
    },
    {
     "data": {
      "text/html": [
       "<div><iframe src=\"http://doomver.local:7862/\" width=\"900\" height=\"500\" allow=\"autoplay; camera; microphone;\" frameborder=\"0\" allowfullscreen></iframe></div>"
      ],
      "text/plain": [
       "<IPython.core.display.HTML object>"
      ]
     },
     "metadata": {},
     "output_type": "display_data"
    },
    {
     "data": {
      "text/plain": [
       "(<gradio.routes.App at 0x7faba770d1c0>, 'http://doomver.local:7862/', None)"
      ]
     },
     "execution_count": 4,
     "metadata": {},
     "output_type": "execute_result"
    }
   ],
   "source": [
    "import numpy as np\n",
    "import gradio as gr\n",
    "\n",
    "def identify_image(img):\n",
    "    pred, pred_idx, probs = learn_inf.predict(img)\n",
    "    return f\"Looks like a {pred} bear\"\n",
    "\n",
    "with gr.Blocks() as demo:\n",
    "    gr.Markdown(\"Identify bears. Useful if you're currently being pursued by one.\")\n",
    "    with gr.Row():\n",
    "        image_input = gr.Image()\n",
    "    with gr.Row():\n",
    "        text_output = gr.Textbox(label=\"Identification\")\n",
    "    image_button = gr.Button(\"Identify\")\n",
    "    \n",
    "    image_button.click(identify_image, inputs=image_input, outputs=text_output)\n",
    "    \n",
    "demo.launch(server_name='doomver.local')"
   ]
  },
  {
   "cell_type": "code",
   "execution_count": 11,
   "id": "9b0a5c00",
   "metadata": {},
   "outputs": [],
   "source": [
    "?gr.Textbox"
   ]
  }
 ],
 "metadata": {
  "kernelspec": {
   "display_name": "Python 3 (ipykernel)",
   "language": "python",
   "name": "python3"
  },
  "language_info": {
   "codemirror_mode": {
    "name": "ipython",
    "version": 3
   },
   "file_extension": ".py",
   "mimetype": "text/x-python",
   "name": "python",
   "nbconvert_exporter": "python",
   "pygments_lexer": "ipython3",
   "version": "3.9.13"
  }
 },
 "nbformat": 4,
 "nbformat_minor": 5
}
